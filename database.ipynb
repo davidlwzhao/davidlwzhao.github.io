{
 "cells": [
  {
   "cell_type": "markdown",
   "metadata": {},
   "source": [
    "# Database Set up and Utilities"
   ]
  },
  {
   "cell_type": "code",
   "execution_count": 1,
   "metadata": {},
   "outputs": [],
   "source": [
    "import numpy as np\n",
    "import pandas as pd\n",
    "import json\n",
    "import sqlite3\n",
    "from datetime import datetime"
   ]
  },
  {
   "cell_type": "markdown",
   "metadata": {},
   "source": [
    "### Data schema\n",
    "\n",
    "    1. Carrier level\n",
    "        - Carrier ID\n",
    "        - Carrier Name\n",
    "        - Carrier Parent?\n",
    "        - Carrier Country\n",
    "        - Other flags ...\n",
    "        \n",
    "    2. Route level (includes layovers)\n",
    "        - Route ID\n",
    "        - Start airport\n",
    "        - End airport\n",
    "        \n",
    "    3. Airport level\n",
    "        - Airport ID\n",
    "        - Airport Name\n",
    "        - Airport Country\n",
    "        - Geo tag? lat and long?\n",
    "            - possibly important if want to look at catchment analysis later on\n",
    "           \n",
    "    4. Quote level (route & carrier & time level)\n",
    "        - Departure time\n",
    "        - Landing time / duration??\n",
    "        - Carrier ID\n",
    "        - Route id\n",
    "        - Price\n",
    "        - Direct or not flag\n",
    "        - Layover time?\n",
    "        - Layover cities (how do I store this?)\n",
    "        - Currency - GBP\n",
    "        - Quote time - when was this queried\n",
    "        - Sourcing\n",
    "    "
   ]
  },
  {
   "cell_type": "markdown",
   "metadata": {},
   "source": [
    "### Database set-up script\n",
    "Creates initial databse and schemas"
   ]
  },
  {
   "cell_type": "code",
   "execution_count": 4,
   "metadata": {},
   "outputs": [],
   "source": [
    "with open('param.json') as f:\n",
    "    params = json.load(f)\n",
    "    \n",
    "# if no database exits then run sql script"
   ]
  },
  {
   "cell_type": "code",
   "execution_count": 6,
   "metadata": {},
   "outputs": [],
   "source": [
    "#!/usr/bin/python\n",
    "\n",
    "class AirportDatabaseCoordinator:\n",
    "    # wrapper around SQLite that facilitates read/writes\n",
    "    def __init__(self, params):\n",
    "        self.database_name = params['database']\n",
    "        self.conn = sqlite3.connect(self.database_name)\n",
    "    \n",
    "    def get(self):\n",
    "        \n",
    "        cursor = conn.execute(\"SELECT carrier_id, carrier_name, country from CARRIER\")\n",
    "        for row in cursor:\n",
    "            for i, val in enumerate(row):\n",
    "                print(f\"{field[i]} = \", val)\n",
    "        \n",
    "        pass\n",
    "    \n",
    "    def write(self):\n",
    "        # Update order is\n",
    "        # 1. Carriers, Airports\n",
    "        # 2. Routes\n",
    "        # 3. Quotes\n",
    "        conn.execute(\"INSERT INTO CARRIER (CARRIER_ID,CARRIER_NAME,COUNTRY) \\\n",
    "        VALUES (2, 'Virgin Airways', 'UK')\");\n",
    "\n",
    "        conn.commit()\n",
    "        pass\n",
    "    \n",
    "    def route(self):\n",
    "        pass\n",
    "    \n",
    "    def get_all_tables(self):\n",
    "        cursor = self.conn.execute(\"SELECT name FROM sqlite_master WHERE type='table';\")\n",
    "        for row in cursor:\n",
    "            print(row)\n",
    "    \n",
    "    def __exit__(self):\n",
    "        self.conn.close()\n",
    "    \n",
    "    \n",
    "class AirportDatabaseExecutor:\n",
    "    def __init__(self):\n",
    "        pass"
   ]
  }
 ],
 "metadata": {
  "kernelspec": {
   "display_name": "Python 3",
   "language": "python",
   "name": "python3"
  },
  "language_info": {
   "codemirror_mode": {
    "name": "ipython",
    "version": 3
   },
   "file_extension": ".py",
   "mimetype": "text/x-python",
   "name": "python",
   "nbconvert_exporter": "python",
   "pygments_lexer": "ipython3",
   "version": "3.6.10"
  }
 },
 "nbformat": 4,
 "nbformat_minor": 4
}
